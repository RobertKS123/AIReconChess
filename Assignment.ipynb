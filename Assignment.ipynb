{
 "cells": [
  {
   "cell_type": "code",
   "execution_count": 61,
   "metadata": {},
   "outputs": [
    {
     "name": "stdout",
     "output_type": "stream",
     "text": [
      "<filter object at 0x00000256F2772980>\n"
     ]
    }
   ],
   "source": [
    "import chess\n",
    "\n",
    "#FEN = input()\n",
    "#tile = input()\n",
    "FEN = \"k1n1n3/p2p1p2/P2P1P2/8/8/8/8/7K b - - 23 30\"\n",
    "tile = \"d6\"\n",
    "\n",
    "board = chess.Board(FEN)\n",
    "\n",
    "# Pseudo_legal_moves also contains all legal moves\n",
    "pseudo_legal_moves = list(board.pseudo_legal_moves)\n",
    "attack_on_tile = [move for move in pseudo_legal_moves if move.uci()[-2:] == tile]  #move.uci gets the string of the move\n",
    "\n",
    "#can store whole boards \n",
    "moves_fen = []\n",
    "for move in attack_on_tile:\n",
    "    board.push(move)\n",
    "    moves_fen.append(board.fen())\n",
    "    board.pop()\n",
    "\n",
    "moves_fen = sorted(moves_fen, key = lambda fen : fen)\n",
    "\n",
    "for fen in moves_fen:\n",
    "    print(fen)"
   ]
  },
  {
   "cell_type": "code",
   "execution_count": 95,
   "metadata": {},
   "outputs": [],
   "source": [
    "def get_sensed_squares(sense):\n",
    "    tile_list = sense.split(';')\n",
    "    tile_list = [(pair.split(':')[0], pair.split(':')[1]) for pair in tile_list]\n",
    "    return tile_list\n"
   ]
  },
  {
   "cell_type": "code",
   "execution_count": 121,
   "metadata": {},
   "outputs": [],
   "source": [
    "def check_valid_state(board, sensed_tiles):\n",
    "    for tile in sensed_tiles:\n",
    "        square = chess.parse_square(tile[0])\n",
    "        on_board = board.piece_at(square)\n",
    "        if (tile[1] == \"?\" and on_board is None):\n",
    "            continue\n",
    "        if (tile[1] == str(on_board)):\n",
    "            continue\n",
    "        return False\n",
    "    return True"
   ]
  },
  {
   "cell_type": "code",
   "execution_count": 123,
   "metadata": {},
   "outputs": [
    {
     "name": "stdout",
     "output_type": "stream",
     "text": [
      "1k6/1ppn4/8/8/8/1P1P4/PN3P2/2K5 w - - 0 32\n",
      "1k6/1ppn1p2/8/8/8/1P1P4/PN3P2/2K5 w - - 0 32\n"
     ]
    }
   ],
   "source": [
    "num_states = 3\n",
    "states = [\"1k6/1ppn4/8/8/8/1P1P4/PN3P2/2K5 w - - 0 32\",\n",
    "            \"1k6/1ppnP3/8/8/8/1P1P4/PN3P2/2K5 w - - 0 32\",\n",
    "            \"1k6/1ppn1p2/8/8/8/1P1P4/PN3P2/2K5 w - - 0 32\"]\n",
    "sense = \"c8:?;d8:?;e8:?;c7:p;d7:n;e7:?;c6:?;d6:?;e6:?\"\n",
    "\n",
    "tiles = get_sensed_squares(sense)\n",
    "\n",
    "for state in states:\n",
    "    board = chess.Board(state)\n",
    "    if (check_valid_state(board,tiles)) :\n",
    "        print(state)\n",
    "\n"
   ]
  },
  {
   "cell_type": "code",
   "execution_count": 125,
   "metadata": {},
   "outputs": [
    {
     "name": "stdout",
     "output_type": "stream",
     "text": [
      "1k6/1ppn1p2/8/8/8/1P1P4/PN3P2/2K5 w - - 0 32\n",
      "1k6/1ppn4/8/8/8/1P1P4/PN3P2/2K5 w - - 0 32\n"
     ]
    }
   ],
   "source": [
    "num_states = int(input())\n",
    "possible_states = []\n",
    "for i in range(num_states):\n",
    "    possible_states.append(input())\n",
    "sense = input()\n",
    "\n",
    "viewed_squares = get_sensed_squares(sense)\n",
    "\n",
    "actual_states = []\n",
    "for state in possible_states:\n",
    "    board = chess.Board(state)\n",
    "    if (check_valid_state(board,viewed_squares)):\n",
    "        actual_states.append(state)\n",
    "\n",
    "actual_states = sorted(actual_states, key = lambda fen : fen)\n",
    "\n",
    "for state in actual_states:\n",
    "    print(state)"
   ]
  }
 ],
 "metadata": {
  "kernelspec": {
   "display_name": "Python 3",
   "language": "python",
   "name": "python3"
  },
  "language_info": {
   "codemirror_mode": {
    "name": "ipython",
    "version": 3
   },
   "file_extension": ".py",
   "mimetype": "text/x-python",
   "name": "python",
   "nbconvert_exporter": "python",
   "pygments_lexer": "ipython3",
   "version": "3.10.11"
  }
 },
 "nbformat": 4,
 "nbformat_minor": 2
}
