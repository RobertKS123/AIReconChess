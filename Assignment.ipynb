{
 "cells": [
  {
   "cell_type": "code",
   "execution_count": 1,
   "metadata": {},
   "outputs": [
    {
     "ename": "ValueError",
     "evalue": "empty fen",
     "output_type": "error",
     "traceback": [
      "\u001b[1;31m---------------------------------------------------------------------------\u001b[0m",
      "\u001b[1;31mIndexError\u001b[0m                                Traceback (most recent call last)",
      "File \u001b[1;32m~\\AppData\\Local\\Packages\\PythonSoftwareFoundation.Python.3.10_qbz5n2kfra8p0\\LocalCache\\local-packages\\Python310\\site-packages\\chess\\__init__.py:2463\u001b[0m, in \u001b[0;36mBoard.set_fen\u001b[1;34m(self, fen)\u001b[0m\n\u001b[0;32m   2462\u001b[0m \u001b[39mtry\u001b[39;00m:\n\u001b[1;32m-> 2463\u001b[0m     board_part \u001b[39m=\u001b[39m parts\u001b[39m.\u001b[39;49mpop(\u001b[39m0\u001b[39;49m)\n\u001b[0;32m   2464\u001b[0m \u001b[39mexcept\u001b[39;00m \u001b[39mIndexError\u001b[39;00m:\n",
      "\u001b[1;31mIndexError\u001b[0m: pop from empty list",
      "\nDuring handling of the above exception, another exception occurred:\n",
      "\u001b[1;31mValueError\u001b[0m                                Traceback (most recent call last)",
      "\u001b[1;32mc:\\Users\\Rober\\Desktop\\AI\\Assignment\\Assignment.ipynb Cell 1\u001b[0m line \u001b[0;36m5\n\u001b[0;32m      <a href='vscode-notebook-cell:/c%3A/Users/Rober/Desktop/AI/Assignment/Assignment.ipynb#W0sZmlsZQ%3D%3D?line=2'>3</a>\u001b[0m FEN \u001b[39m=\u001b[39m \u001b[39minput\u001b[39m()\n\u001b[0;32m      <a href='vscode-notebook-cell:/c%3A/Users/Rober/Desktop/AI/Assignment/Assignment.ipynb#W0sZmlsZQ%3D%3D?line=3'>4</a>\u001b[0m move_input \u001b[39m=\u001b[39m \u001b[39minput\u001b[39m()\n\u001b[1;32m----> <a href='vscode-notebook-cell:/c%3A/Users/Rober/Desktop/AI/Assignment/Assignment.ipynb#W0sZmlsZQ%3D%3D?line=4'>5</a>\u001b[0m board \u001b[39m=\u001b[39m chess\u001b[39m.\u001b[39;49mBoard(FEN)\n\u001b[0;32m      <a href='vscode-notebook-cell:/c%3A/Users/Rober/Desktop/AI/Assignment/Assignment.ipynb#W0sZmlsZQ%3D%3D?line=5'>6</a>\u001b[0m move \u001b[39m=\u001b[39m chess\u001b[39m.\u001b[39mMove\u001b[39m.\u001b[39mfrom_uci(move_input)\n\u001b[0;32m      <a href='vscode-notebook-cell:/c%3A/Users/Rober/Desktop/AI/Assignment/Assignment.ipynb#W0sZmlsZQ%3D%3D?line=6'>7</a>\u001b[0m board\u001b[39m.\u001b[39mpush(move)\n",
      "File \u001b[1;32m~\\AppData\\Local\\Packages\\PythonSoftwareFoundation.Python.3.10_qbz5n2kfra8p0\\LocalCache\\local-packages\\Python310\\site-packages\\chess\\__init__.py:1598\u001b[0m, in \u001b[0;36mBoard.__init__\u001b[1;34m(self, fen, chess960)\u001b[0m\n\u001b[0;32m   1596\u001b[0m     \u001b[39mself\u001b[39m\u001b[39m.\u001b[39mreset()\n\u001b[0;32m   1597\u001b[0m \u001b[39melse\u001b[39;00m:\n\u001b[1;32m-> 1598\u001b[0m     \u001b[39mself\u001b[39;49m\u001b[39m.\u001b[39;49mset_fen(fen)\n",
      "File \u001b[1;32m~\\AppData\\Local\\Packages\\PythonSoftwareFoundation.Python.3.10_qbz5n2kfra8p0\\LocalCache\\local-packages\\Python310\\site-packages\\chess\\__init__.py:2465\u001b[0m, in \u001b[0;36mBoard.set_fen\u001b[1;34m(self, fen)\u001b[0m\n\u001b[0;32m   2463\u001b[0m     board_part \u001b[39m=\u001b[39m parts\u001b[39m.\u001b[39mpop(\u001b[39m0\u001b[39m)\n\u001b[0;32m   2464\u001b[0m \u001b[39mexcept\u001b[39;00m \u001b[39mIndexError\u001b[39;00m:\n\u001b[1;32m-> 2465\u001b[0m     \u001b[39mraise\u001b[39;00m \u001b[39mValueError\u001b[39;00m(\u001b[39m\"\u001b[39m\u001b[39mempty fen\u001b[39m\u001b[39m\"\u001b[39m)\n\u001b[0;32m   2467\u001b[0m \u001b[39m# Turn.\u001b[39;00m\n\u001b[0;32m   2468\u001b[0m \u001b[39mtry\u001b[39;00m:\n",
      "\u001b[1;31mValueError\u001b[0m: empty fen"
     ]
    }
   ],
   "source": [
    "import chess\n",
    "\n",
    "FEN = input()\n",
    "move_input = input()\n",
    "board = chess.Board(FEN)\n",
    "move = chess.Move.from_uci(move_input)\n",
    "board.push(move)\n",
    "print(board.fen())\n"
   ]
  }
 ],
 "metadata": {
  "kernelspec": {
   "display_name": "Python 3",
   "language": "python",
   "name": "python3"
  },
  "language_info": {
   "codemirror_mode": {
    "name": "ipython",
    "version": 3
   },
   "file_extension": ".py",
   "mimetype": "text/x-python",
   "name": "python",
   "nbconvert_exporter": "python",
   "pygments_lexer": "ipython3",
   "version": "3.10.11"
  }
 },
 "nbformat": 4,
 "nbformat_minor": 2
}
