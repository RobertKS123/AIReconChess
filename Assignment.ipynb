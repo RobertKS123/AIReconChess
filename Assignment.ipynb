{
 "cells": [
  {
   "cell_type": "code",
   "execution_count": 61,
   "metadata": {},
   "outputs": [
    {
     "name": "stdout",
     "output_type": "stream",
     "text": [
      "<filter object at 0x00000256F2772980>\n"
     ]
    }
   ],
   "source": [
    "import chess\n",
    "\n",
    "#FEN = input()\n",
    "#tile = input()\n",
    "FEN = \"k1n1n3/p2p1p2/P2P1P2/8/8/8/8/7K b - - 23 30\"\n",
    "tile = \"d6\"\n",
    "\n",
    "board = chess.Board(FEN)\n",
    "\n",
    "# Pseudo_legal_moves also contains all legal moves\n",
    "pseudo_legal_moves = list(board.pseudo_legal_moves)\n",
    "attack_on_tile = [move for move in pseudo_legal_moves if move.uci()[-2:] == tile]  #move.uci gets the string of the move\n",
    "\n",
    "#can store whole boards \n",
    "moves_fen = []\n",
    "for move in attack_on_tile:\n",
    "    board.push(move)\n",
    "    moves_fen.append(board.fen())\n",
    "    board.pop()\n",
    "\n",
    "moves_fen = sorted(moves_fen, key = lambda fen : fen)\n",
    "\n",
    "for fen in moves_fen:\n",
    "    print(fen)"
   ]
  },
  {
   "cell_type": "code",
   "execution_count": null,
   "metadata": {},
   "outputs": [],
   "source": []
  }
 ],
 "metadata": {
  "kernelspec": {
   "display_name": "Python 3",
   "language": "python",
   "name": "python3"
  },
  "language_info": {
   "codemirror_mode": {
    "name": "ipython",
    "version": 3
   },
   "file_extension": ".py",
   "mimetype": "text/x-python",
   "name": "python",
   "nbconvert_exporter": "python",
   "pygments_lexer": "ipython3",
   "version": "3.10.11"
  }
 },
 "nbformat": 4,
 "nbformat_minor": 2
}
