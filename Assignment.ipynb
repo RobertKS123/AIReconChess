{
 "cells": [
  {
   "cell_type": "code",
   "execution_count": 43,
   "metadata": {},
   "outputs": [
    {
     "name": "stdout",
     "output_type": "stream",
     "text": [
      "8/8/8/7B/k7/8/7K/8 b - - 49 32\n",
      "8/8/8/8/B7/8/7K/8 b - - 0 32\n",
      "8/8/8/8/k5B1/8/7K/8 b - - 49 32\n",
      "8/8/8/8/k7/1B6/7K/8 b - - 49 32\n",
      "8/8/8/8/k7/5B2/7K/8 b - - 49 32\n",
      "8/8/8/8/k7/6K1/8/3B4 b - - 49 32\n",
      "8/8/8/8/k7/7K/8/3B4 b - - 49 32\n",
      "8/8/8/8/k7/8/2B4K/8 b - - 49 32\n",
      "8/8/8/8/k7/8/4B2K/8 b - - 49 32\n",
      "8/8/8/8/k7/8/6K1/3B4 b - - 49 32\n",
      "8/8/8/8/k7/8/8/3B2K1 b - - 49 32\n",
      "8/8/8/8/k7/8/8/3B3K b - - 49 32\n"
     ]
    }
   ],
   "source": [
    "import chess\n",
    "\n",
    "#FEN = input()\n",
    "FEN = \"8/8/8/8/k7/8/7K/3B4 w - - 48 32\"\n",
    "\n",
    "board = chess.Board(FEN)\n",
    "\n",
    "# Pseudo_legal_moves also contains all legal moves\n",
    "pseudo_legal_moves = list(board.pseudo_legal_moves)\n",
    "#pseudo_legal_moves = sorted(pseudo_legal_moves, key=lambda move: move.uci()) #move.uci gets the string of the move\n",
    "\n",
    "\n",
    "#can store whole boards \n",
    "moves_fen = []\n",
    "for move in pseudo_legal_moves:\n",
    "    board.push(move)\n",
    "    moves_fen.append(board.fen())\n",
    "    board.pop()\n",
    "\n",
    "moves_fen = sorted(moves_fen, key = lambda fen : fen)\n",
    "\n",
    "for fen in moves_fen:\n",
    "    print(fen)"
   ]
  },
  {
   "cell_type": "code",
   "execution_count": null,
   "metadata": {},
   "outputs": [],
   "source": []
  }
 ],
 "metadata": {
  "kernelspec": {
   "display_name": "Python 3",
   "language": "python",
   "name": "python3"
  },
  "language_info": {
   "codemirror_mode": {
    "name": "ipython",
    "version": 3
   },
   "file_extension": ".py",
   "mimetype": "text/x-python",
   "name": "python",
   "nbconvert_exporter": "python",
   "pygments_lexer": "ipython3",
   "version": "3.10.11"
  }
 },
 "nbformat": 4,
 "nbformat_minor": 2
}
