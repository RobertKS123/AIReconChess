{
 "cells": [
  {
   "cell_type": "code",
   "execution_count": 4,
   "metadata": {},
   "outputs": [],
   "source": [
    "from reconchess import *\n",
    "import chess.engine"
   ]
  },
  {
   "cell_type": "markdown",
   "metadata": {},
   "source": [
    "myenv\\Scripts\\activate\n",
    "\n",
    "pip install package"
   ]
  },
  {
   "cell_type": "code",
   "execution_count": 22,
   "metadata": {},
   "outputs": [
    {
     "name": "stdout",
     "output_type": "stream",
     "text": [
      "c7c5\n"
     ]
    }
   ],
   "source": [
    "engine = chess.engine.SimpleEngine.popen_uci('./stockfish/stockfish.exe', setpgrp=True)\n",
    "#FEN = input()\n",
    "FEN = \"rnbqkbnr/pppppppp/8/8/4P3/8/PPPP1PPP/RNBQKBNR b KQkq e3 0 1\"\n",
    "\n",
    "board = chess.Board(FEN)\n",
    "\n",
    "# Pseudo_legal_moves also contains all legal moves\n",
    "pseudo_legal_moves = list(board.pseudo_legal_moves)\n",
    "\n",
    "best_move = None\n",
    "for move in pseudo_legal_moves:\n",
    "    square = chess.parse_square(move.uci()[-2:])\n",
    "    if (str(board.piece_at(square)).lower() == \"k\" ):\n",
    "        best_move = move.uci()\n",
    "if (best_move is None):\n",
    "    try:\n",
    "        board.clear_stack()\n",
    "        result = engine.play(board, chess.engine.Limit(time=0.5))\n",
    "        best_move = result.move\n",
    "    except chess.engine.EngineTerminatedError:\n",
    "        print('Stockfish Engine died')\n",
    "    except chess.engine.EngineError:\n",
    "        print('Stockfish Engine bad state at \"{}\"'.format(board.fen()))\n",
    "print(best_move)\n",
    "engine.quit()\n"
   ]
  },
  {
   "cell_type": "code",
   "execution_count": null,
   "metadata": {},
   "outputs": [],
   "source": [
    "#can store whole boards \n",
    "# moves_fen = []\n",
    "# for move in attack_on_tile:\n",
    "#     board.push(move)\n",
    "#     moves_fen.append(board.fen())\n",
    "#     board.pop()\n",
    "\n",
    "# moves_fen = sorted(moves_fen, key = lambda fen : fen)\n",
    "\n",
    "# for fen in moves_fen:\n",
    "#     print(fen)"
   ]
  },
  {
   "cell_type": "code",
   "execution_count": null,
   "metadata": {},
   "outputs": [],
   "source": [
    "def get_sensed_squares(sense):\n",
    "    tile_list = sense.split(';')\n",
    "    tile_list = [(pair.split(':')[0], pair.split(':')[1]) for pair in tile_list]\n",
    "    return tile_list\n"
   ]
  },
  {
   "cell_type": "code",
   "execution_count": null,
   "metadata": {},
   "outputs": [],
   "source": [
    "def check_valid_state(board, sensed_tiles):\n",
    "    for tile in sensed_tiles:\n",
    "        square = chess.parse_square(tile[0])\n",
    "        on_board = board.piece_at(square)\n",
    "        if (tile[1] == \"?\" and on_board is None):\n",
    "            continue\n",
    "        if (tile[1] == str(on_board)):\n",
    "            continue\n",
    "        return False\n",
    "    return True"
   ]
  },
  {
   "cell_type": "code",
   "execution_count": null,
   "metadata": {},
   "outputs": [],
   "source": [
    "num_states = 3\n",
    "states = [\"1k6/1ppn4/8/8/8/1P1P4/PN3P2/2K5 w - - 0 32\",\n",
    "            \"1k6/1ppnP3/8/8/8/1P1P4/PN3P2/2K5 w - - 0 32\",\n",
    "            \"1k6/1ppn1p2/8/8/8/1P1P4/PN3P2/2K5 w - - 0 32\"]\n",
    "sense = \"c8:?;d8:?;e8:?;c7:p;d7:n;e7:?;c6:?;d6:?;e6:?\"\n",
    "\n",
    "tiles = get_sensed_squares(sense)\n",
    "\n",
    "for state in states:\n",
    "    board = chess.Board(state)\n",
    "    if (check_valid_state(board,tiles)) :\n",
    "        print(state)\n",
    "\n"
   ]
  },
  {
   "cell_type": "code",
   "execution_count": null,
   "metadata": {},
   "outputs": [],
   "source": [
    "num_states = int(input())\n",
    "possible_states = []\n",
    "for i in range(num_states):\n",
    "    possible_states.append(input())\n",
    "sense = input()\n",
    "\n",
    "viewed_squares = get_sensed_squares(sense)\n",
    "\n",
    "actual_states = []\n",
    "for state in possible_states:\n",
    "    board = chess.Board(state)\n",
    "    if (check_valid_state(board,viewed_squares)):\n",
    "        actual_states.append(state)\n",
    "\n",
    "actual_states = sorted(actual_states, key = lambda fen : fen)\n",
    "\n",
    "for state in actual_states:\n",
    "    print(state)"
   ]
  },
  {
   "cell_type": "code",
   "execution_count": 29,
   "metadata": {},
   "outputs": [
    {
     "name": "stdout",
     "output_type": "stream",
     "text": [
      "h6g7\n"
     ]
    }
   ],
   "source": [
    "engine = chess.engine.SimpleEngine.popen_uci('./stockfish/stockfish.exe', setpgrp=True)\n",
    "\n",
    "# num_states = 2\n",
    "# states = [\"r1bqk2r/pppp1ppp/2n2n2/4B3/1b2P3/1P3N2/P1PP1PPP/RN1QKB1R b KQkq - 0 5\",\n",
    "#             \"r1bqk2r/pppp1ppp/2n2n2/4N3/1b2P3/1P6/PBPP1PPP/RN1QKB1R b KQkq - 0 5\"]\n",
    "num_states = 4\n",
    "states = [\"8/3k2pn/7P/8/8/8/4K3/8 w - - 0 45\",\n",
    "            \"8/3k2pp/7P/8/8/8/4K3/8 w - - 0 45\",\n",
    "            \"8/4k1p1/7P/8/8/8/4K3/8 w - - 0 45\",\n",
    "            \"8/4k1p1/7P/7b/8/8/4K3/8 w - - 0 45\"]\n",
    "\n",
    "\n",
    "possible_moves = []\n",
    "\n",
    "for state in states:\n",
    "    board = chess.Board(state)\n",
    "\n",
    "    # Pseudo_legal_moves also contains all legal moves\n",
    "    pseudo_legal_moves = list(board.pseudo_legal_moves)\n",
    "\n",
    "    best_move = None\n",
    "\n",
    "    for move in pseudo_legal_moves:\n",
    "        square = chess.parse_square(move.uci()[-2:])\n",
    "        if (str(board.piece_at(square)).lower() == \"k\" ):\n",
    "            best_move = move.uci()\n",
    "    if (best_move is None):\n",
    "        try:\n",
    "            board.clear_stack()\n",
    "            result = engine.play(board, chess.engine.Limit(time=0.5))\n",
    "            best_move = result.move\n",
    "        except chess.engine.EngineTerminatedError:\n",
    "            print('Stockfish Engine died')\n",
    "        except chess.engine.EngineError:\n",
    "            print('Stockfish Engine bad state at \"{}\"'.format(board.fen()))\n",
    "    possible_moves.append(best_move)\n",
    "\n",
    "move_frequency = {move: possible_moves.count(move) for move in possible_moves}\n",
    "possible_moves = sorted(move_frequency, key=lambda move: (-move_frequency[move], move.uci()))\n",
    "\n",
    "print(possible_moves[0].uci())\n",
    "\n",
    "engine.quit()"
   ]
  },
  {
   "cell_type": "code",
   "execution_count": 32,
   "metadata": {},
   "outputs": [
    {
     "name": "stdout",
     "output_type": "stream",
     "text": [
      "[Move.from_uci('b2c4'), Move.from_uci('b2a4'), Move.from_uci('b2d1'), Move.from_uci('c1d2'), Move.from_uci('c1c2'), Move.from_uci('c1d1'), Move.from_uci('c1b1'), Move.from_uci('d3d4'), Move.from_uci('b3b4'), Move.from_uci('f2f3'), Move.from_uci('a2a3'), Move.from_uci('f2f4'), Move.from_uci('a2a4')]\n"
     ]
    }
   ],
   "source": [
    "board = chess.Board(\"1k6/1ppn1p2/8/8/8/1P1P4/PN3P2/2K5 w - - 0 32\")\n",
    "x= list(board.legal_moves)\n",
    "print(x)"
   ]
  },
  {
   "cell_type": "code",
   "execution_count": 36,
   "metadata": {},
   "outputs": [
    {
     "name": "stdout",
     "output_type": "stream",
     "text": [
      "1k6/1ppn1p2/8/8/2N5/1P1P4/P4P2/2K5 b - - 1 32\n"
     ]
    }
   ],
   "source": [
    "board.push(x[0])\n",
    "print(board.fen())"
   ]
  },
  {
   "cell_type": "code",
   "execution_count": 40,
   "metadata": {},
   "outputs": [
    {
     "name": "stdout",
     "output_type": "stream",
     "text": [
      "e8g7\n",
      "e8c7\n",
      "e8f6\n",
      "c8e7\n",
      "c8b6\n",
      "a8b8\n",
      "a8b7\n",
      "1kn1n3/p2p1p2/P2P1P2/8/8/8/8/7K w - - 24 31\n",
      "2n1n3/pk1p1p2/P2P1P2/8/8/8/8/7K w - - 24 31\n",
      "k1n5/p1np1p2/P2P1P2/8/8/8/8/7K w - - 24 31\n",
      "k1n5/p2p1p2/P2P1n2/8/8/8/8/7K w - - 0 31\n",
      "k1n5/p2p1pn1/P2P1P2/8/8/8/8/7K w - - 24 31\n",
      "k3n3/p2p1p2/Pn1P1P2/8/8/8/8/7K w - - 24 31\n",
      "k3n3/p2pnp2/P2P1P2/8/8/8/8/7K w - - 24 31\n"
     ]
    }
   ],
   "source": [
    "# %%\n",
    "import chess\n",
    "\n",
    "#FEN = input()\n",
    "#tile = input()\n",
    "FEN = \"k1n1n3/p2p1p2/P2P1P2/8/8/8/8/7K b - - 23 30\"\n",
    "tile = \"d6\"\n",
    "\n",
    "board = chess.Board(FEN)\n",
    "\n",
    "# Pseudo_legal_moves also contains all legal moves\n",
    "pseudo_legal_moves = list(board.pseudo_legal_moves)\n",
    "#attack_on_tile = filter(lambda move: move.uci()[:-2] == tile, pseudo_legal_moves)\n",
    "attack_on_tile = [move for move in pseudo_legal_moves if move.uci()[-2:] != tile]  #move.uci gets the string of the move\n",
    "\n",
    "for element in attack_on_tile:\n",
    "    print(element)\n",
    "\n",
    "#can store whole boards \n",
    "moves_fen = []\n",
    "for move in attack_on_tile:\n",
    "    board.push(move)\n",
    "    moves_fen.append(board.fen())\n",
    "    board.pop()\n",
    "\n",
    "moves_fen = sorted(moves_fen, key = lambda fen : fen)\n",
    "\n",
    "for fen in moves_fen:\n",
    "    print(fen)\n"
   ]
  },
  {
   "cell_type": "code",
   "execution_count": 48,
   "metadata": {},
   "outputs": [
    {
     "name": "stdout",
     "output_type": "stream",
     "text": [
      "k1n1n3/p2p1p2/P2P1P2/8/8/8/8/7K b - - 23 30\n",
      "None\n"
     ]
    }
   ],
   "source": [
    "FEN = \"k1n1n3/p2p1p2/P2P1P2/8/8/8/8/7K b - - 23 30\"\n",
    "\n",
    "board = chess.Board(FEN)\n",
    "\n",
    "print(board.fen())\n",
    "\n",
    "print(board.piece_at(57))"
   ]
  },
  {
   "cell_type": "code",
   "execution_count": 47,
   "metadata": {},
   "outputs": [
    {
     "name": "stdout",
     "output_type": "stream",
     "text": [
      "{'1', 4}\n"
     ]
    }
   ],
   "source": [
    "\n",
    "\n",
    "a = {\"1\"}\n",
    "a.add(4)\n",
    "\n",
    "print(a)"
   ]
  }
 ],
 "metadata": {
  "kernelspec": {
   "display_name": "Python 3",
   "language": "python",
   "name": "python3"
  },
  "language_info": {
   "codemirror_mode": {
    "name": "ipython",
    "version": 3
   },
   "file_extension": ".py",
   "mimetype": "text/x-python",
   "name": "python",
   "nbconvert_exporter": "python",
   "pygments_lexer": "ipython3",
   "version": "3.11.2"
  }
 },
 "nbformat": 4,
 "nbformat_minor": 2
}
